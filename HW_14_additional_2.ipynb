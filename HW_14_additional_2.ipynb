{
 "cells": [
  {
   "cell_type": "markdown",
   "source": [
    "Творческая домашка номер один.\n",
    "В архиве картинки. Картинки надо разложить по трем папкам.\n",
    "Нужно понять что это за задача.\n",
    "Написать план решения, с использованием техник машинного обучения.\n",
    "Кто чувствует в себе мощь - может писать решение."
   ],
   "metadata": {
    "collapsed": false
   }
  },
  {
   "cell_type": "code",
   "execution_count": null,
   "outputs": [],
   "source": [],
   "metadata": {
    "collapsed": false
   }
  },
  {
   "cell_type": "code",
   "execution_count": null,
   "outputs": [],
   "source": [],
   "metadata": {
    "collapsed": false
   }
  },
  {
   "cell_type": "code",
   "execution_count": 7,
   "outputs": [
    {
     "name": "stdout",
     "output_type": "stream",
     "text": [
      "1/1 [==============================] - 1s 504ms/step\n",
      "Фотография c4be1c79-bf88-4dce-915e-4d994faeaf72-productdetailsimage.jpg отнесена к классу soccer_ball\n",
      "1/1 [==============================] - 0s 53ms/step\n",
      "Фотография images (1пп).jpg отнесена к классу volleyball\n",
      "1/1 [==============================] - 0s 50ms/step\n",
      "Фотография download (1).jpg отнесена к классу Granny_Smith\n",
      "1/1 [==============================] - 0s 51ms/step\n",
      "Фотография images (2).jpg отнесена к классу Granny_Smith\n",
      "1/1 [==============================] - 0s 48ms/step\n",
      "Фотография Без названия.jpg отнесена к классу rugby_ball\n",
      "1/1 [==============================] - 0s 48ms/step\n",
      "Фотография 0.jpg отнесена к классу rugby_ball\n",
      "1/1 [==============================] - 0s 50ms/step\n",
      "Фотография images (3).jpg отнесена к классу Granny_Smith\n",
      "1/1 [==============================] - 0s 50ms/step\n",
      "Фотография download (3).jpg отнесена к классу strawberry\n",
      "1/1 [==============================] - 0s 49ms/step\n",
      "Фотография images (9).jpg отнесена к классу basketball\n",
      "1/1 [==============================] - 0s 51ms/step\n",
      "Фотография ningbo2.jpg отнесена к классу basketball\n",
      "1/1 [==============================] - 0s 49ms/step\n",
      "Фотография images (4).jpg отнесена к классу fig\n",
      "1/1 [==============================] - 0s 49ms/step\n",
      "Фотография images (1).jpg отнесена к классу pomegranate\n",
      "1/1 [==============================] - 0s 48ms/step\n",
      "Фотография images (2лл).jpg отнесена к классу rugby_ball\n",
      "1/1 [==============================] - 0s 48ms/step\n",
      "Фотография images (5zz).jpg отнесена к классу soccer_ball\n",
      "1/1 [==============================] - 0s 48ms/step\n",
      "Фотография images (11).jpg отнесена к классу soccer_ball\n",
      "1/1 [==============================] - 0s 49ms/step\n",
      "Фотография images (3оо).jpg отнесена к классу soccer_ball\n",
      "1/1 [==============================] - 0s 49ms/step\n",
      "Фотография download (7).jpg отнесена к классу soccer_ball\n",
      "1/1 [==============================] - 0s 48ms/step\n",
      "Фотография photo_66143.jpg отнесена к классу pomegranate\n",
      "1/1 [==============================] - 0s 49ms/step\n",
      "Фотография 161884103.jpg отнесена к классу basketball\n",
      "1/1 [==============================] - 0s 51ms/step\n",
      "Фотография download.jpg отнесена к классу Granny_Smith\n",
      "1/1 [==============================] - 0s 52ms/step\n",
      "Фотография images (10ппк).jpg отнесена к классу Granny_Smith\n",
      "1/1 [==============================] - 0s 49ms/step\n",
      "Фотография apple-1.jpg отнесена к классу Granny_Smith\n",
      "1/1 [==============================] - 0s 52ms/step\n",
      "Фотография hoeia9y3ct43r8ph8foh344l06rk4oq8.jpg отнесена к классу soccer_ball\n",
      "1/1 [==============================] - 0s 49ms/step\n",
      "Фотография images(14).jpg отнесена к классу Granny_Smith\n",
      "1/1 [==============================] - 0s 49ms/step\n",
      "Фотография images (13).jpg отнесена к классу volleyball\n",
      "1/1 [==============================] - 0s 49ms/step\n",
      "Фотография images.jpg отнесена к классу Granny_Smith\n",
      "1/1 [==============================] - 0s 48ms/step\n",
      "Фотография download (2).jpg отнесена к классу strawberry\n",
      "1/1 [==============================] - 0s 49ms/step\n",
      "Фотография download (6).jpg отнесена к классу soccer_ball\n",
      "1/1 [==============================] - 0s 48ms/step\n",
      "Фотография images (8).jpg отнесена к классу basketball\n",
      "1/1 [==============================] - 0s 48ms/step\n",
      "Фотография 61982d1b-0dbf-4dd9-be44-49efe25216ea_lg_sq.jpg отнесена к классу Granny_Smith\n",
      "1/1 [==============================] - 0s 50ms/step\n",
      "Фотография images (9у).jpg отнесена к классу Granny_Smith\n",
      "1/1 [==============================] - 0s 51ms/step\n",
      "Фотография images (12).jpg отнесена к классу croquet_ball\n",
      "1/1 [==============================] - 0s 50ms/step\n",
      "Фотография images (6aw).jpg отнесена к классу tennis_ball\n",
      "1/1 [==============================] - 0s 49ms/step\n",
      "Фотография mva-200-fivb.jpg отнесена к классу volleyball\n",
      "1/1 [==============================] - 0s 49ms/step\n",
      "Фотография images (10).jpg отнесена к классу soccer_ball\n",
      "1/1 [==============================] - 0s 48ms/step\n",
      "Фотография images (7е).jpg отнесена к классу Granny_Smith\n",
      "1/1 [==============================] - 0s 48ms/step\n",
      "Фотография images (4ппп.jpg отнесена к классу rugby_ball\n",
      "1/1 [==============================] - 0s 48ms/step\n",
      "Фотография pngtree-3d-red-apple-png-image_3218247.jpg отнесена к классу soap_dispenser\n",
      "1/1 [==============================] - 0s 49ms/step\n",
      "Фотография images (11в).jpg отнесена к классу Granny_Smith\n",
      "1/1 [==============================] - 0s 48ms/step\n",
      "Фотография 180px-Alice_(apple).jpg отнесена к классу Granny_Smith\n",
      "1/1 [==============================] - 0s 50ms/step\n",
      "Фотография 69fee48bff36fcb560223798cc622c16.jpg отнесена к классу soccer_ball\n"
     ]
    }
   ],
   "source": [
    "import os\n",
    "import numpy as np\n",
    "from tensorflow.keras.preprocessing import image\n",
    "from tensorflow.keras.applications.resnet50 import ResNet50, preprocess_input, decode_predictions\n",
    "\n",
    "# Создание модели ResNet50\n",
    "model = ResNet50(weights='imagenet')\n",
    "\n",
    "# Проход по всем фотографиям в папке\n",
    "for filename in os.listdir('images'):\n",
    "\n",
    "    # Загрузка изображения и изменение размера до 224x224\n",
    "    img_path = os.path.join('images', filename)\n",
    "    img = image.load_img(img_path, target_size=(224, 224))\n",
    "\n",
    "    # Если изображение имеет иной размер, то изменить его размер\n",
    "    if img.size != (224, 224):\n",
    "        img = img.resize((224, 224))\n",
    "\n",
    "    # Преобразование в массив numpy и нормализация\n",
    "    x = image.img_to_array(img)\n",
    "    x = np.expand_dims(x, axis=0)\n",
    "    x = preprocess_input(x)\n",
    "\n",
    "    # Классификация изображения с помощью ResNet50\n",
    "    preds = model.predict(x)\n",
    "    predicted_classes = decode_predictions(preds, top=1)[0]\n",
    "    class_name = predicted_classes[0][1]\n",
    "\n",
    "    # Вывод предсказанного класса в консоль\n",
    "    print('Фотография {} отнесена к классу {}'.format(filename, class_name))\n"
   ],
   "metadata": {
    "collapsed": false
   }
  },
  {
   "cell_type": "code",
   "execution_count": null,
   "outputs": [],
   "source": [],
   "metadata": {
    "collapsed": false
   }
  },
  {
   "cell_type": "code",
   "execution_count": 8,
   "outputs": [
    {
     "name": "stdout",
     "output_type": "stream",
     "text": [
      "1/1 [==============================] - 0s 490ms/step\n"
     ]
    },
    {
     "ename": "AttributeError",
     "evalue": "module 'keras.api._v2.keras.preprocessing.image' has no attribute 'classify_image'",
     "output_type": "error",
     "traceback": [
      "\u001B[0;31m---------------------------------------------------------------------------\u001B[0m",
      "\u001B[0;31mAttributeError\u001B[0m                            Traceback (most recent call last)",
      "\u001B[0;32m/tmp/ipykernel_9161/1554342752.py\u001B[0m in \u001B[0;36m<module>\u001B[0;34m\u001B[0m\n\u001B[1;32m     41\u001B[0m     \u001B[0;31m# Классификация изображения с помощью ResNet50\u001B[0m\u001B[0;34m\u001B[0m\u001B[0;34m\u001B[0m\u001B[0m\n\u001B[1;32m     42\u001B[0m     \u001B[0mpreds\u001B[0m \u001B[0;34m=\u001B[0m \u001B[0mmodel\u001B[0m\u001B[0;34m.\u001B[0m\u001B[0mpredict\u001B[0m\u001B[0;34m(\u001B[0m\u001B[0mx\u001B[0m\u001B[0;34m)\u001B[0m\u001B[0;34m\u001B[0m\u001B[0;34m\u001B[0m\u001B[0m\n\u001B[0;32m---> 43\u001B[0;31m     \u001B[0mpredicted_class\u001B[0m \u001B[0;34m=\u001B[0m \u001B[0mimage\u001B[0m\u001B[0;34m.\u001B[0m\u001B[0mclassify_image\u001B[0m\u001B[0;34m(\u001B[0m\u001B[0;34m'imagenet'\u001B[0m\u001B[0;34m,\u001B[0m \u001B[0mpreds\u001B[0m\u001B[0;34m[\u001B[0m\u001B[0;36m0\u001B[0m\u001B[0;34m]\u001B[0m\u001B[0;34m)\u001B[0m\u001B[0;34m\u001B[0m\u001B[0;34m\u001B[0m\u001B[0m\n\u001B[0m\u001B[1;32m     44\u001B[0m \u001B[0;34m\u001B[0m\u001B[0m\n\u001B[1;32m     45\u001B[0m     \u001B[0;31m# Копирование изображения в соответствующую папку\u001B[0m\u001B[0;34m\u001B[0m\u001B[0;34m\u001B[0m\u001B[0m\n",
      "\u001B[0;31mAttributeError\u001B[0m: module 'keras.api._v2.keras.preprocessing.image' has no attribute 'classify_image'"
     ]
    }
   ],
   "source": [
    "import os\n",
    "import numpy as np\n",
    "import pandas as pd\n",
    "import matplotlib.pyplot as plt\n",
    "from tensorflow.keras.preprocessing import image\n",
    "from tensorflow.keras.applications.resnet50 import ResNet50, preprocess_input\n",
    "\n",
    "# Создание модели ResNet50\n",
    "model = ResNet50(weights='imagenet')\n",
    "\n",
    "# Пути к папкам для каждого класса\n",
    "orange_dir = 'orange'\n",
    "apple_dir = 'apple'\n",
    "ball_dir = 'ball'\n",
    "\n",
    "# Создание папок для каждого класса, если они еще не существуют\n",
    "if not os.path.exists(orange_dir):\n",
    "    os.makedirs(orange_dir)\n",
    "if not os.path.exists(apple_dir):\n",
    "    os.makedirs(apple_dir)\n",
    "if not os.path.exists(ball_dir):\n",
    "    os.makedirs(ball_dir)\n",
    "\n",
    "# Проход по всем фотографиям в папке\n",
    "results = []\n",
    "for filename in os.listdir('images'):\n",
    "\n",
    "    # Загрузка изображения и изменение размера до 224x224\n",
    "    img_path = os.path.join('images', filename)\n",
    "    img = image.load_img(img_path, target_size=(224, 224))\n",
    "\n",
    "    # Если изображение имеет иной размер, то изменить его размер\n",
    "    if img.size != (224, 224):\n",
    "        img = img.resize((224, 224))\n",
    "\n",
    "    # Преобразование в массив numpy и нормализация\n",
    "    x = image.img_to_array(img)\n",
    "    x = np.expand_dims(x, axis=0)\n",
    "    x = preprocess_input(x)\n",
    "\n",
    "    # Классификация изображения с помощью ResNet50\n",
    "    preds = model.predict(x)\n",
    "    predicted_class = image.classify_image('imagenet', preds[0])\n",
    "\n",
    "    # Копирование изображения в соответствующую папку\n",
    "    if predicted_class == 'orange':\n",
    "        os.rename(img_path, os.path.join(orange_dir, filename))\n",
    "    elif predicted_class == 'apple':\n",
    "        os.rename(img_path, os.path.join(apple_dir, filename))\n",
    "    elif predicted_class == 'ball':\n",
    "        os.rename(img_path, os.path.join(ball_dir, filename))\n",
    "    else:\n",
    "        results.append({'filename': filename, 'predicted_class': predicted_class})\n",
    "\n",
    "# Вывод результатов классификации\n",
    "df_results = pd.DataFrame(results)\n",
    "if not df_results.empty:\n",
    "    print(df_results)\n",
    "    for _, row in df_results.iterrows():\n",
    "        img = image.load_img(os.path.join('images', row['filename']))\n",
    "        plt.imshow(img)\n",
    "        plt.title(row['predicted_class'])\n",
    "        plt.show()\n"
   ],
   "metadata": {
    "collapsed": false
   }
  },
  {
   "cell_type": "code",
   "execution_count": null,
   "outputs": [],
   "source": [],
   "metadata": {
    "collapsed": false
   }
  }
 ],
 "metadata": {
  "kernelspec": {
   "display_name": "Python 3",
   "language": "python",
   "name": "python3"
  },
  "language_info": {
   "codemirror_mode": {
    "name": "ipython",
    "version": 2
   },
   "file_extension": ".py",
   "mimetype": "text/x-python",
   "name": "python",
   "nbconvert_exporter": "python",
   "pygments_lexer": "ipython2",
   "version": "2.7.6"
  }
 },
 "nbformat": 4,
 "nbformat_minor": 0
}
