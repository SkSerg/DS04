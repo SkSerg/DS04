{
 "cells": [
  {
   "cell_type": "markdown",
   "metadata": {
    "collapsed": true
   },
   "source": [
    "Перед вами датасет, описывающий поступление детей в колледж.\n",
    "\n",
    "\n",
    "целевая переменная in_college\n",
    "Осмотрите данные.\n",
    "Примените для предобработки пайплайн с прошлого урока.\n",
    "Решите задачу классификации методами:\n",
    "- логистической регрессии\n",
    "- линейной классификации\n",
    "- деревом решений\n",
    "- методом опорных векторов\n",
    "сравните полученные в каждом решении метрики между собой\n",
    "\n",
    "\n",
    "Попробуйте использовать GridSearch для поиска оптимальных гиперпараметров, перечисленных выше алгоритмов.\n"
   ]
  },
  {
   "cell_type": "code",
   "execution_count": 20,
   "metadata": {},
   "outputs": [],
   "source": [
    "import numpy as np\n",
    "import pandas as pd\n",
    "import matplotlib.pyplot as plt\n",
    "import seaborn as sns\n",
    "import re\n",
    "\n",
    "sns.set_style(\"darkgrid\")"
   ]
  },
  {
   "cell_type": "code",
   "execution_count": 43,
   "metadata": {},
   "outputs": [
    {
     "data": {
      "text/plain": "  type_school school_accreditation  gender         interest residence  \\\n0    Academic                    A    Male  Less Interested     Urban   \n1    Academic                    A    Male  Less Interested     Urban   \n2    Academic                    B  Female  Very Interested     Urban   \n\n   parent_age  parent_salary  house_area  average_grades  \\\n0          56        6950000        83.0           84.09   \n1          57        4410000        76.8           86.91   \n2          50        6500000        80.6           87.43   \n\n   parent_was_in_college  in_college  \n0                  False        True  \n1                  False        True  \n2                  False        True  ",
      "text/html": "<div>\n<style scoped>\n    .dataframe tbody tr th:only-of-type {\n        vertical-align: middle;\n    }\n\n    .dataframe tbody tr th {\n        vertical-align: top;\n    }\n\n    .dataframe thead th {\n        text-align: right;\n    }\n</style>\n<table border=\"1\" class=\"dataframe\">\n  <thead>\n    <tr style=\"text-align: right;\">\n      <th></th>\n      <th>type_school</th>\n      <th>school_accreditation</th>\n      <th>gender</th>\n      <th>interest</th>\n      <th>residence</th>\n      <th>parent_age</th>\n      <th>parent_salary</th>\n      <th>house_area</th>\n      <th>average_grades</th>\n      <th>parent_was_in_college</th>\n      <th>in_college</th>\n    </tr>\n  </thead>\n  <tbody>\n    <tr>\n      <th>0</th>\n      <td>Academic</td>\n      <td>A</td>\n      <td>Male</td>\n      <td>Less Interested</td>\n      <td>Urban</td>\n      <td>56</td>\n      <td>6950000</td>\n      <td>83.0</td>\n      <td>84.09</td>\n      <td>False</td>\n      <td>True</td>\n    </tr>\n    <tr>\n      <th>1</th>\n      <td>Academic</td>\n      <td>A</td>\n      <td>Male</td>\n      <td>Less Interested</td>\n      <td>Urban</td>\n      <td>57</td>\n      <td>4410000</td>\n      <td>76.8</td>\n      <td>86.91</td>\n      <td>False</td>\n      <td>True</td>\n    </tr>\n    <tr>\n      <th>2</th>\n      <td>Academic</td>\n      <td>B</td>\n      <td>Female</td>\n      <td>Very Interested</td>\n      <td>Urban</td>\n      <td>50</td>\n      <td>6500000</td>\n      <td>80.6</td>\n      <td>87.43</td>\n      <td>False</td>\n      <td>True</td>\n    </tr>\n  </tbody>\n</table>\n</div>"
     },
     "execution_count": 43,
     "metadata": {},
     "output_type": "execute_result"
    }
   ],
   "source": [
    "df = pd.read_csv(\"data.csv\")\n",
    "df.head(3)"
   ]
  },
  {
   "cell_type": "code",
   "execution_count": 22,
   "metadata": {},
   "outputs": [
    {
     "data": {
      "text/plain": "Index(['type_school', 'school_accreditation', 'gender', 'interest',\n       'residence', 'parent_age', 'parent_salary', 'house_area',\n       'average_grades', 'parent_was_in_college', 'in_college'],\n      dtype='object')"
     },
     "execution_count": 22,
     "metadata": {},
     "output_type": "execute_result"
    }
   ],
   "source": [
    "df.columns"
   ]
  },
  {
   "cell_type": "code",
   "execution_count": 23,
   "metadata": {},
   "outputs": [
    {
     "data": {
      "text/plain": "(1000, 11)"
     },
     "execution_count": 23,
     "metadata": {},
     "output_type": "execute_result"
    }
   ],
   "source": [
    "df.shape"
   ]
  },
  {
   "cell_type": "code",
   "execution_count": 24,
   "metadata": {},
   "outputs": [
    {
     "data": {
      "text/plain": "object     5\nint64      2\nfloat64    2\nbool       2\ndtype: int64"
     },
     "execution_count": 24,
     "metadata": {},
     "output_type": "execute_result"
    }
   ],
   "source": [
    "df.dtypes.value_counts()"
   ]
  },
  {
   "cell_type": "code",
   "execution_count": 24,
   "outputs": [],
   "source": [],
   "metadata": {
    "collapsed": false
   }
  },
  {
   "cell_type": "code",
   "execution_count": 24,
   "outputs": [],
   "source": [],
   "metadata": {
    "collapsed": false
   }
  },
  {
   "cell_type": "code",
   "execution_count": 44,
   "outputs": [],
   "source": [
    "from sklearn.preprocessing import StandardScaler\n",
    "from sklearn.linear_model import LogisticRegression\n",
    "from sklearn.linear_model import SGDClassifier\n",
    "from sklearn.tree import DecisionTreeClassifier\n",
    "from sklearn.svm import SVC, LinearSVC\n",
    "\n",
    "from sklearn.pipeline import Pipeline\n",
    "from sklearn.model_selection import train_test_split\n",
    "\n",
    "from sklearn.compose import ColumnTransformer\n",
    "from sklearn.impute import SimpleImputer\n",
    "from sklearn.preprocessing import StandardScaler, OneHotEncoder\n",
    "\n",
    "from sklearn.metrics import confusion_matrix, precision_score, \\\n",
    "              recall_score, f1_score, precision_recall_curve, roc_curve, roc_auc_score, \\\n",
    "              auc, mean_squared_error\n",
    "\n",
    "from sklearn.model_selection import GridSearchCV"
   ],
   "metadata": {
    "collapsed": false
   }
  },
  {
   "cell_type": "code",
   "execution_count": 45,
   "outputs": [],
   "source": [
    "X = df.drop([\"in_college\"], axis=1)\n",
    "Y = df[\"in_college\"]"
   ],
   "metadata": {
    "collapsed": false
   }
  },
  {
   "cell_type": "code",
   "execution_count": 46,
   "outputs": [],
   "source": [
    "# Create lists of numeric and categorical features\n",
    "numeric_features = X.select_dtypes(include=['int64', 'float64']).columns\n",
    "categorical_features = X.select_dtypes(include=['object', \"bool\"]).columns"
   ],
   "metadata": {
    "collapsed": false
   }
  },
  {
   "cell_type": "code",
   "execution_count": 47,
   "metadata": {},
   "outputs": [],
   "source": [
    "X_train, X_test, y_train, y_test = train_test_split(X, Y, random_state=0)"
   ]
  },
  {
   "cell_type": "code",
   "execution_count": 48,
   "metadata": {},
   "outputs": [],
   "source": [
    "# Create a numeric and categorical transformer to perform preprocessing steps\n",
    "numeric_transformer = Pipeline(steps=[\n",
    "    ('imputer', SimpleImputer(strategy='median')),\n",
    "    ('scaler', StandardScaler())])\n",
    "\n",
    "categorical_transformer = Pipeline(steps=[\n",
    "    ('imputer', SimpleImputer(strategy='constant', fill_value='missing')),\n",
    "    ('onehot', OneHotEncoder(handle_unknown='ignore'))])\n"
   ]
  },
  {
   "cell_type": "code",
   "execution_count": 49,
   "outputs": [],
   "source": [
    "# Use the ColumnTransformer to apply to the correct features\n",
    "preprocessor = ColumnTransformer(\n",
    "    transformers=[\n",
    "        ('num', numeric_transformer, numeric_features),\n",
    "        ('cat', categorical_transformer, categorical_features)])"
   ],
   "metadata": {
    "collapsed": false
   }
  },
  {
   "cell_type": "code",
   "execution_count": 50,
   "outputs": [],
   "source": [
    "# Append SGDClassifier  to the  preprocessor\n",
    "SGD_clf = Pipeline(steps=[('preprocessor', preprocessor),\n",
    "                      ('classifier', SGDClassifier ())])"
   ],
   "metadata": {
    "collapsed": false
   }
  },
  {
   "cell_type": "code",
   "execution_count": 51,
   "outputs": [
    {
     "name": "stdout",
     "output_type": "stream",
     "text": [
      "0.8664259927797834 0.8053691275167785 0.9375\n"
     ]
    }
   ],
   "source": [
    "# Fit the complete pipeline\n",
    "SGD_clf.fit(X_train, y_train)\n",
    "pred_SGD_clf = SGD_clf.predict(X_test)\n",
    "print(  f1_score(y_test, pred_SGD_clf),\n",
    "        precision_score(y_test, pred_SGD_clf),\n",
    "        recall_score(y_test, pred_SGD_clf))"
   ],
   "metadata": {
    "collapsed": false
   }
  },
  {
   "cell_type": "code",
   "execution_count": 51,
   "outputs": [],
   "source": [],
   "metadata": {
    "collapsed": false
   }
  },
  {
   "cell_type": "code",
   "execution_count": 52,
   "outputs": [],
   "source": [
    "# Append logistic regressor to the preprocessor\n",
    "lr = Pipeline(steps=[('preprocessor', preprocessor),\n",
    "                      ('classifier', LogisticRegression())])"
   ],
   "metadata": {
    "collapsed": false
   }
  },
  {
   "cell_type": "code",
   "execution_count": 53,
   "outputs": [
    {
     "name": "stdout",
     "output_type": "stream",
     "text": [
      "0.8416988416988418 0.8320610687022901 0.8515625\n"
     ]
    }
   ],
   "source": [
    "# Fit the complete pipeline\n",
    "lr.fit(X_train, y_train)\n",
    "pred_lr = lr.predict(X_test)\n",
    "print(  f1_score(y_test, pred_lr),\n",
    "        precision_score(y_test, pred_lr),\n",
    "        recall_score(y_test, pred_lr))"
   ],
   "metadata": {
    "collapsed": false
   }
  },
  {
   "cell_type": "code",
   "execution_count": 54,
   "outputs": [],
   "source": [
    "# Append Tree Classifier to the preprocessor\n",
    "Tree_clf = Pipeline(steps=[('preprocessor', preprocessor),\n",
    "                      ('classifier', DecisionTreeClassifier())])"
   ],
   "metadata": {
    "collapsed": false
   }
  },
  {
   "cell_type": "code",
   "execution_count": 55,
   "outputs": [
    {
     "name": "stdout",
     "output_type": "stream",
     "text": [
      "0.8127490039840638 0.8292682926829268 0.796875\n"
     ]
    }
   ],
   "source": [
    "# Fit the complete pipeline\n",
    "Tree_clf.fit(X_train, y_train)\n",
    "pred_Tree_clf = Tree_clf.predict(X_test)\n",
    "print(  f1_score(y_test, pred_Tree_clf),\n",
    "        precision_score(y_test, pred_Tree_clf),\n",
    "        recall_score(y_test, pred_Tree_clf))"
   ],
   "metadata": {
    "collapsed": false
   }
  },
  {
   "cell_type": "code",
   "execution_count": 56,
   "outputs": [],
   "source": [
    "# Append Tree Classifier to the preprocessor\n",
    "SV_clf = Pipeline(steps=[('preprocessor', preprocessor),\n",
    "                      ('classifier', SVC())])"
   ],
   "metadata": {
    "collapsed": false
   }
  },
  {
   "cell_type": "code",
   "execution_count": 57,
   "outputs": [
    {
     "name": "stdout",
     "output_type": "stream",
     "text": [
      "0.888888888888889 0.8721804511278195 0.90625\n"
     ]
    }
   ],
   "source": [
    "# Fit the complete pipeline\n",
    "SV_clf.fit(X_train, y_train)\n",
    "pred_SV_clf = SV_clf.predict(X_test)\n",
    "print(  f1_score(y_test, pred_SV_clf),\n",
    "        precision_score(y_test, pred_SV_clf),\n",
    "        recall_score(y_test, pred_SV_clf))"
   ],
   "metadata": {
    "collapsed": false
   }
  },
  {
   "cell_type": "code",
   "execution_count": 57,
   "outputs": [],
   "source": [],
   "metadata": {
    "collapsed": false
   }
  },
  {
   "cell_type": "code",
   "execution_count": 57,
   "outputs": [],
   "source": [],
   "metadata": {
    "collapsed": false
   }
  },
  {
   "cell_type": "code",
   "execution_count": null,
   "outputs": [],
   "source": [],
   "metadata": {
    "collapsed": false
   }
  },
  {
   "cell_type": "code",
   "execution_count": null,
   "outputs": [],
   "source": [],
   "metadata": {
    "collapsed": false
   }
  },
  {
   "cell_type": "code",
   "execution_count": null,
   "metadata": {},
   "outputs": [],
   "source": []
  }
 ],
 "metadata": {
  "kernelspec": {
   "display_name": "Python 3",
   "language": "python",
   "name": "python3"
  },
  "language_info": {
   "codemirror_mode": {
    "name": "ipython",
    "version": 3
   },
   "file_extension": ".py",
   "mimetype": "text/x-python",
   "name": "python",
   "nbconvert_exporter": "python",
   "pygments_lexer": "ipython3",
   "version": "3.7.4"
  }
 },
 "nbformat": 4,
 "nbformat_minor": 1
}
