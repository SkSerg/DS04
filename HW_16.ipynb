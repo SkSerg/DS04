{
 "cells": [
  {
   "cell_type": "markdown",
   "source": [
    "Многоклассовая классификация\n",
    "\n",
    "загрузите из sklearn датасет с цифрами (каждый элемент кодирует изображение цифры размером 8х8)\n",
    "подсказка from sklearn.datasets import load_digits\n",
    "Осмотрите данные и метки.\n",
    "попробуйте отобразить любое единичное изображение из набора с помощью matplotlib.\n",
    "Примените тетрадку с прошлого урока к загруженному датасету в части многоклассовой классификации.\n",
    "Рассмотрите матрицу неточностей, сделайте выводы какие цифры классификатор принимает за другие наиболее часто.\n",
    "Сравните качество стратегий OvR и OvO.\n",
    "\n",
    "\n",
    "\n",
    "\n"
   ],
   "metadata": {
    "collapsed": false
   }
  },
  {
   "cell_type": "code",
   "execution_count": 32,
   "outputs": [],
   "source": [
    "import pandas as pd\n",
    "from matplotlib import pyplot as plt\n",
    "import seaborn as sns\n",
    "%matplotlib inline\n",
    "import numpy as np\n",
    "\n",
    "from sklearn.datasets import load_digits\n",
    "from sklearn.metrics import confusion_matrix, precision_score, \\\n",
    "              recall_score, f1_score, precision_recall_curve, roc_curve, roc_auc_score, \\\n",
    "              auc, mean_squared_error, accuracy_score\n",
    "import math"
   ],
   "metadata": {
    "collapsed": false
   }
  },
  {
   "cell_type": "code",
   "execution_count": 5,
   "outputs": [],
   "source": [
    "digits = load_digits()"
   ],
   "metadata": {
    "collapsed": false
   }
  },
  {
   "cell_type": "code",
   "execution_count": 28,
   "outputs": [
    {
     "data": {
      "text/plain": "array([[ 0.,  0.,  5., ...,  0.,  0.,  0.],\n       [ 0.,  0.,  0., ..., 10.,  0.,  0.],\n       [ 0.,  0.,  0., ..., 16.,  9.,  0.],\n       ...,\n       [ 0.,  0.,  1., ...,  6.,  0.,  0.],\n       [ 0.,  0.,  2., ..., 12.,  0.,  0.],\n       [ 0.,  0., 10., ..., 12.,  1.,  0.]])"
     },
     "execution_count": 28,
     "metadata": {},
     "output_type": "execute_result"
    }
   ],
   "source": [
    "X = digits['data']\n",
    "Y = digits['target']\n",
    "X"
   ],
   "metadata": {
    "collapsed": false
   }
  },
  {
   "cell_type": "code",
   "execution_count": 17,
   "outputs": [
    {
     "data": {
      "text/plain": "['pixel_0_0',\n 'pixel_0_1',\n 'pixel_0_2',\n 'pixel_0_3',\n 'pixel_0_4',\n 'pixel_0_5',\n 'pixel_0_6',\n 'pixel_0_7',\n 'pixel_1_0',\n 'pixel_1_1',\n 'pixel_1_2',\n 'pixel_1_3',\n 'pixel_1_4',\n 'pixel_1_5',\n 'pixel_1_6',\n 'pixel_1_7',\n 'pixel_2_0',\n 'pixel_2_1',\n 'pixel_2_2',\n 'pixel_2_3',\n 'pixel_2_4',\n 'pixel_2_5',\n 'pixel_2_6',\n 'pixel_2_7',\n 'pixel_3_0',\n 'pixel_3_1',\n 'pixel_3_2',\n 'pixel_3_3',\n 'pixel_3_4',\n 'pixel_3_5',\n 'pixel_3_6',\n 'pixel_3_7',\n 'pixel_4_0',\n 'pixel_4_1',\n 'pixel_4_2',\n 'pixel_4_3',\n 'pixel_4_4',\n 'pixel_4_5',\n 'pixel_4_6',\n 'pixel_4_7',\n 'pixel_5_0',\n 'pixel_5_1',\n 'pixel_5_2',\n 'pixel_5_3',\n 'pixel_5_4',\n 'pixel_5_5',\n 'pixel_5_6',\n 'pixel_5_7',\n 'pixel_6_0',\n 'pixel_6_1',\n 'pixel_6_2',\n 'pixel_6_3',\n 'pixel_6_4',\n 'pixel_6_5',\n 'pixel_6_6',\n 'pixel_6_7',\n 'pixel_7_0',\n 'pixel_7_1',\n 'pixel_7_2',\n 'pixel_7_3',\n 'pixel_7_4',\n 'pixel_7_5',\n 'pixel_7_6',\n 'pixel_7_7']"
     },
     "execution_count": 17,
     "metadata": {},
     "output_type": "execute_result"
    }
   ],
   "source": [
    "feature_names = digits['feature_names']\n",
    "target_names = digits['target_names']"
   ],
   "metadata": {
    "collapsed": false
   }
  },
  {
   "cell_type": "code",
   "execution_count": 6,
   "outputs": [
    {
     "data": {
      "text/plain": "dict_keys(['data', 'target', 'frame', 'feature_names', 'target_names', 'images', 'DESCR'])"
     },
     "execution_count": 6,
     "metadata": {},
     "output_type": "execute_result"
    }
   ],
   "source": [
    "digits.keys()"
   ],
   "metadata": {
    "collapsed": false
   }
  },
  {
   "cell_type": "code",
   "execution_count": 21,
   "outputs": [
    {
     "data": {
      "text/plain": "array([[ 0.,  0., 10., 14.,  8.,  1.,  0.,  0.],\n       [ 0.,  2., 16., 14.,  6.,  1.,  0.,  0.],\n       [ 0.,  0., 15., 15.,  8., 15.,  0.,  0.],\n       [ 0.,  0.,  5., 16., 16., 10.,  0.,  0.],\n       [ 0.,  0., 12., 15., 15., 12.,  0.,  0.],\n       [ 0.,  4., 16.,  6.,  4., 16.,  6.,  0.],\n       [ 0.,  8., 16., 10.,  8., 16.,  8.,  0.],\n       [ 0.,  1.,  8., 12., 14., 12.,  1.,  0.]])"
     },
     "execution_count": 21,
     "metadata": {},
     "output_type": "execute_result"
    }
   ],
   "source": [
    "Смотрим как выглядит матрица последней цифры в\n",
    "images = digits['images']\n",
    "images[-1]"
   ],
   "metadata": {
    "collapsed": false
   }
  },
  {
   "cell_type": "code",
   "execution_count": 23,
   "outputs": [
    {
     "data": {
      "text/plain": "<Figure size 640x480 with 2 Axes>",
      "image/png": "[encoded data removed]"
     },
     "metadata": {},
     "output_type": "display_data"
    }
   ],
   "source": [
    "# создаем график\n",
    "fig, ax = plt.subplots()\n",
    "\n",
    "# создаем изображение из матрицы, используя метод imshow()\n",
    "img = ax.imshow(images[-1], cmap='gray')\n",
    "\n",
    "# добавляем цветовую шкалу\n",
    "cbar = ax.figure.colorbar(img, ax=ax)\n",
    "\n",
    "# добавляем заголовок\n",
    "ax.set_title('Изображение из матрицы')\n",
    "\n",
    "# показываем график\n",
    "plt.show()"
   ],
   "metadata": {
    "collapsed": false
   }
  },
  {
   "cell_type": "code",
   "execution_count": 26,
   "outputs": [],
   "source": [
    "#Импортируем модель\n",
    "from sklearn.linear_model import SGDClassifier\n",
    "SGDclf = SGDClassifier (random_state = 42)"
   ],
   "metadata": {
    "collapsed": false
   }
  },
  {
   "cell_type": "code",
   "execution_count": 29,
   "outputs": [
    {
     "data": {
      "text/plain": "SGDClassifier(random_state=42)"
     },
     "execution_count": 29,
     "metadata": {},
     "output_type": "execute_result"
    }
   ],
   "source": [
    "#обучаем модель\n",
    "SGDclf.fit(X,Y)"
   ],
   "metadata": {
    "collapsed": false
   }
  },
  {
   "cell_type": "code",
   "execution_count": 30,
   "outputs": [],
   "source": [
    "#предсказываем используя обученную модель\n",
    "pred = SGDclf.predict(X)"
   ],
   "metadata": {
    "collapsed": false
   }
  },
  {
   "cell_type": "code",
   "execution_count": 34,
   "outputs": [
    {
     "data": {
      "text/plain": "array([[178,   0,   0,   0,   0,   0,   0,   0,   0,   0],\n       [  0, 164,   1,   1,   0,   0,   0,   0,  14,   2],\n       [  0,   0, 176,   0,   0,   0,   0,   0,   1,   0],\n       [  0,   0,   0, 166,   0,   5,   0,   1,   8,   3],\n       [  0,   1,   0,   0, 174,   1,   1,   1,   1,   2],\n       [  0,   0,   0,   0,   0, 180,   0,   0,   1,   1],\n       [  0,   0,   0,   0,   0,   0, 180,   0,   1,   0],\n       [  0,   0,   0,   0,   0,   0,   0, 175,   1,   3],\n       [  0,   1,   0,   0,   0,   0,   0,   0, 173,   0],\n       [  0,   0,   0,   0,   0,   0,   0,   0,   3, 177]])"
     },
     "execution_count": 34,
     "metadata": {},
     "output_type": "execute_result"
    }
   ],
   "source": [
    "# находим матрицу неточностей\n",
    "cm = confusion_matrix(Y, pred)\n",
    "cm"
   ],
   "metadata": {
    "collapsed": false
   }
  },
  {
   "cell_type": "code",
   "execution_count": 35,
   "outputs": [
    {
     "data": {
      "text/plain": "<AxesSubplot:>"
     },
     "execution_count": 35,
     "metadata": {},
     "output_type": "execute_result"
    },
    {
     "data": {
      "text/plain": "<Figure size 640x480 with 2 Axes>",
      "image/png": "[encoded data removed]"
     },
     "metadata": {},
     "output_type": "display_data"
    }
   ],
   "source": [
    "# посмотрим на  матрицу неточностей, видно что чифра 8 хуже всего распознаётся\n",
    "sns.heatmap(cm)"
   ],
   "metadata": {
    "collapsed": false
   }
  },
  {
   "cell_type": "code",
   "execution_count": 33,
   "outputs": [
    {
     "data": {
      "text/plain": "(0.9720937814810465, 0.9702604940886219, 0.9701342616961084)"
     },
     "execution_count": 33,
     "metadata": {},
     "output_type": "execute_result"
    }
   ],
   "source": [
    "# макро - считает метрики для каждой метки и берет среднее значение.\n",
    "precision_score(Y,pred, average = 'macro'), recall_score(Y,pred, average = 'macro'), f1_score(Y,pred, average = 'macro')"
   ],
   "metadata": {
    "collapsed": false
   }
  },
  {
   "cell_type": "code",
   "execution_count": 36,
   "outputs": [
    {
     "data": {
      "text/plain": "OneVsRestClassifier(estimator=SGDClassifier(random_state=42))"
     },
     "execution_count": 36,
     "metadata": {},
     "output_type": "execute_result"
    }
   ],
   "source": [
    "#стратегия OvR\n",
    "from sklearn.multiclass import OneVsRestClassifier\n",
    "\n",
    "ovrSGD = OneVsRestClassifier(SGDClassifier(random_state = 42))\n",
    "ovrSGD.fit(X,Y)"
   ],
   "metadata": {
    "collapsed": false
   }
  },
  {
   "cell_type": "code",
   "execution_count": 39,
   "outputs": [
    {
     "data": {
      "text/plain": "array([[-4949.04666793,   938.26919236, -3147.54980621, -1282.85689808,\n         -941.32685122, -2799.74219275, -3509.08128318, -2057.35711913,\n         -525.21269436, -1511.91846475]])"
     },
     "execution_count": 39,
     "metadata": {},
     "output_type": "execute_result"
    }
   ],
   "source": [
    "# проверяем вторую в данных цифру\n",
    "ovrSGD.decision_function([X[1]])"
   ],
   "metadata": {
    "collapsed": false
   }
  },
  {
   "cell_type": "code",
   "execution_count": null,
   "outputs": [],
   "source": [],
   "metadata": {
    "collapsed": false
   }
  },
  {
   "cell_type": "code",
   "execution_count": 40,
   "outputs": [
    {
     "data": {
      "text/plain": "OneVsOneClassifier(estimator=SGDClassifier(random_state=42))"
     },
     "execution_count": 40,
     "metadata": {},
     "output_type": "execute_result"
    }
   ],
   "source": [
    "#стратегия OvО\n",
    "from sklearn.multiclass import OneVsOneClassifier\n",
    "\n",
    "ovoSGD = OneVsOneClassifier(SGDClassifier(random_state = 42))\n",
    "ovoSGD.fit(X,Y)"
   ],
   "metadata": {
    "collapsed": false
   }
  },
  {
   "cell_type": "code",
   "execution_count": 41,
   "outputs": [
    {
     "data": {
      "text/plain": "array([[-0.33332741,  9.33332928,  3.66669877,  4.66676018,  7.33328495,\n         0.66668048,  2.66668778,  3.66669217,  8.33332615,  3.66669356]])"
     },
     "execution_count": 41,
     "metadata": {},
     "output_type": "execute_result"
    }
   ],
   "source": [
    "# проверяем вторую в данных цифру\n",
    "ovoSGD.decision_function([X[1]])"
   ],
   "metadata": {
    "collapsed": false
   }
  },
  {
   "cell_type": "code",
   "execution_count": null,
   "outputs": [],
   "source": [],
   "metadata": {
    "collapsed": false
   }
  },
  {
   "cell_type": "markdown",
   "source": [
    "Cтратегия OvR более уверенно предсказывает"
   ],
   "metadata": {
    "collapsed": false
   }
  },
  {
   "cell_type": "code",
   "execution_count": null,
   "outputs": [],
   "source": [],
   "metadata": {
    "collapsed": false
   }
  },
  {
   "cell_type": "markdown",
   "source": [
    "Логистическая регрессия\n",
    "\n",
    "Возьмите датасет с данными по телефонной компании с прошлых уроков.\n",
    "Подготовьте данные для обучения.\n",
    "Нормализуйте данные с помощью MinMaxScaler (рассматривали в конце прошлого урока)\n",
    "Обучите логистическую регрессию на нормированных данных.\n",
    "Посчитайте метрики на тестовом и обучающем множествах."
   ],
   "metadata": {
    "collapsed": false
   }
  },
  {
   "cell_type": "code",
   "execution_count": null,
   "outputs": [],
   "source": [
    "from sklearn.linear_model import SGDRegressor"
   ],
   "metadata": {
    "collapsed": false
   }
  },
  {
   "cell_type": "code",
   "execution_count": null,
   "outputs": [],
   "source": [],
   "metadata": {
    "collapsed": false
   }
  },
  {
   "cell_type": "code",
   "execution_count": null,
   "outputs": [],
   "source": [],
   "metadata": {
    "collapsed": false
   }
  },
  {
   "cell_type": "code",
   "execution_count": null,
   "outputs": [],
   "source": [],
   "metadata": {
    "collapsed": false
   }
  },
  {
   "cell_type": "code",
   "execution_count": null,
   "outputs": [],
   "source": [],
   "metadata": {
    "collapsed": false
   }
  }
 ],
 "metadata": {
  "kernelspec": {
   "display_name": "Python 3",
   "language": "python",
   "name": "python3"
  },
  "language_info": {
   "codemirror_mode": {
    "name": "ipython",
    "version": 2
   },
   "file_extension": ".py",
   "mimetype": "text/x-python",
   "name": "python",
   "nbconvert_exporter": "python",
   "pygments_lexer": "ipython2",
   "version": "2.7.6"
  }
 },
 "nbformat": 4,
 "nbformat_minor": 0
}
